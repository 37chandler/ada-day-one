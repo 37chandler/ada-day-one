{
 "cells": [
  {
   "cell_type": "markdown",
   "metadata": {},
   "source": [
    "## Welcome to ADA!\n",
    "\n",
    "This class makes extensive use of some technology that you should have some familarity with: Python, GitHub, the Open AI API, and Google Big Query. This notebook walks you through some of these technologies to ensure everything is working."
   ]
  },
  {
   "cell_type": "code",
   "execution_count": null,
   "metadata": {},
   "outputs": [],
   "source": [
    "import openai\n",
    "from google.cloud import bigquery\n",
    "import polars as pl\n",
    "import pandas as pd\n",
    "import plotnine as p9\n",
    "from pprint import pprint"
   ]
  },
  {
   "cell_type": "markdown",
   "metadata": {},
   "source": [
    "To install these libraries directly within your Jupyter Notebook, you can use the `!pip install` command. The exclamation mark (`!`) at the beginning allows you to run shell commands directly from the notebook's cells.\n",
    "\n",
    "### Installation:\n",
    "\n",
    "1. **Open a new cell in your Jupyter Notebook.**\n",
    "2. **Type the following command and execute the cell:**\n",
    "\n",
    "```\n",
    "   !pip install openai google-cloud-bigquery polars\n",
    "```\n",
    "\n",
    "If there are other libraries you need you can do a separate `!pip install`."
   ]
  },
  {
   "cell_type": "markdown",
   "metadata": {},
   "source": [
    "## Test GBQ Connectivity\n",
    "\n",
    "In order to work with our GBQ environment, I think you'll need to join our google group. You can do that by following this link: [https://groups.google.com/g/umt-msba-ada/](https://groups.google.com/g/umt-msba-ada/). \n",
    "\n",
    "Once you've done that, head to our GBQ environment and run the below queries. The environment can be found here: [https://console.cloud.google.com/bigquery?project=umt-msba&ws=!1m0](https://console.cloud.google.com/bigquery?project=umt-msba&ws=!1m0).\n",
    "\n",
    "**Query 1**\n",
    "```\n",
    "SELECT year, month, ROUND(SUM(total_sales),2) AS sales \n",
    "FROM `umt-msba.dram_shop.vw_item_year_month` \n",
    "GROUP BY year, month\n",
    "ORDER BY year, month\n",
    "```\n",
    "\n",
    "**Query 2**\n",
    "```\n",
    "SELECT    dd.department, \n",
    "                  d.dept_name, \n",
    "                  SUM(dd.spend) AS dept_spend\n",
    "FROM `umt-msba.wedge_example.department_date` AS dd\n",
    "INNER JOIN `umt-msba.wedge_example.departments` d ON d.department = dd.department\n",
    "WHERE EXTRACT(YEAR FROM dd.date) = 2015\n",
    "GROUP BY dd.department, d.dept_name\n",
    "ORDER BY dept_spend DESC\n",
    "```\n",
    "\n",
    "**Query 3**\n",
    "```\n",
    "SELECT LOWER(description) AS product, ROUND(SUM(sales),2) AS sales\n",
    "FROM `umt-msba.wedge_example.product_year_month`\n",
    "WHERE dept_name = \"PRODUCE\"\n",
    "GROUP BY product\n",
    "ORDER BY sales DESC\n",
    "LIMIT 20;\n",
    "```\n",
    "\n",
    "---\n",
    "\n",
    "After you've run those queries and played around with them a bit in the GBQ console, we want to make sure you can run the same queries via code. The process of getting access can be a bit cumbersome, which is why we're doing it in class, but this has worked for me: \n",
    "\n",
    "1. Install the [Google Cloud Command Line Interface (CLI)](https://cloud.google.com/sdk/docs/install).\n",
    "2. Follow the local development environment instructions [here](https://cloud.google.com/docs/authentication/provide-credentials-adc#local-dev). \n",
    "3. Try the code below.\n"
   ]
  },
  {
   "cell_type": "code",
   "execution_count": null,
   "metadata": {},
   "outputs": [],
   "source": [
    "# Create a client object\n",
    "client = bigquery.Client()\n",
    "\n",
    "# Define the query\n",
    "query_1 = \"\"\"\n",
    "  SELECT year, month, ROUND(SUM(total_sales),2) AS sales \n",
    "  FROM `umt-msba.dram_shop.vw_item_year_month` \n",
    "  GROUP BY year, month\n",
    "  ORDER BY year, month\n",
    "\"\"\"\n",
    "\n",
    "# Run the query\n",
    "query_job = client.query(query_1)\n",
    "\n",
    "# Get the results\n",
    "results = query_job.result()\n"
   ]
  },
  {
   "cell_type": "code",
   "execution_count": null,
   "metadata": {},
   "outputs": [],
   "source": [
    "year_month_sales = results.to_dataframe()\n",
    "# I had to run `!pip install db-dtypes` to get this to work"
   ]
  },
  {
   "cell_type": "code",
   "execution_count": null,
   "metadata": {},
   "outputs": [],
   "source": [
    "\n",
    "# Convert year and month columns to string\n",
    "year_month_sales['year'] = year_month_sales['year'].astype(str)\n",
    "year_month_sales['month'] = year_month_sales['month'].astype(str)\n",
    "\n",
    "# Create the plot\n",
    "plot = (\n",
    "  p9.ggplot(year_month_sales, p9.aes(x='month', y='sales', color='year',group='year')) +\n",
    "  p9.geom_line() +\n",
    "#  p9.aes(group='year') +\n",
    "  p9.theme_minimal()\n",
    ")\n",
    "\n",
    "# Display the plot\n",
    "plot"
   ]
  },
  {
   "cell_type": "markdown",
   "metadata": {},
   "source": [
    "If you get here before your classmates, make charts for queries 2 and 3."
   ]
  },
  {
   "cell_type": "markdown",
   "metadata": {},
   "source": [
    "## Testing Open AI API Access\n",
    "\n",
    "As part of this class and in Text Mining, we'll be working with the [Open AI API](https://openai.com/index/openai-api/). Head over there and sign up for access. The [Developer Quickstart](https://platform.openai.com/docs/quickstart) explains how to create your API key and export it as an environment variable. \n",
    "\n"
   ]
  },
  {
   "cell_type": "code",
   "execution_count": null,
   "metadata": {},
   "outputs": [],
   "source": [
    "client = openai.OpenAI()\n",
    "\n",
    "completion = client.chat.completions.create(\n",
    "    model=\"gpt-4o-mini\",\n",
    "    messages=[\n",
    "        {\"role\": \"system\", \"content\": \"You are a helpful assistant.\"},\n",
    "        {\n",
    "            \"role\": \"user\",\n",
    "            \"content\": \"Write a haiku about data engineering.\"\n",
    "        }\n",
    "    ]\n",
    ")\n"
   ]
  },
  {
   "cell_type": "code",
   "execution_count": null,
   "metadata": {},
   "outputs": [],
   "source": [
    "result = completion.choices[0].message.content\n",
    "print(\"\".join(result))"
   ]
  },
  {
   "cell_type": "markdown",
   "metadata": {},
   "source": [
    "## Finishing your work\n",
    "\n",
    "You accepted this exercise via Github Classroom. I'll evaluate your work via a similar mechanism, which means you need to commit and push your repo in order for me to see it. \n",
    "\n",
    "1. Save your file.\n",
    "2. Go to the \"Source Control\" section of VS Code (upper left, looks like a network).\n",
    "3. Add your file to your commit by hitting the plus sign.\n",
    "4. Type a message in the text box. \n",
    "5. Hit commit. \n",
    "6. Hit \"Sync Changes\". (You can do 5&6 in one step with \"Commit and Push\")"
   ]
  }
 ],
 "metadata": {
  "kernelspec": {
   "display_name": "base",
   "language": "python",
   "name": "python3"
  },
  "language_info": {
   "codemirror_mode": {
    "name": "ipython",
    "version": 3
   },
   "file_extension": ".py",
   "mimetype": "text/x-python",
   "name": "python",
   "nbconvert_exporter": "python",
   "pygments_lexer": "ipython3",
   "version": "3.11.7"
  }
 },
 "nbformat": 4,
 "nbformat_minor": 2
}
